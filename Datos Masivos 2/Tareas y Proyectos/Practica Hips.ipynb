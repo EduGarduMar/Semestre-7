{
 "cells": [
  {
   "cell_type": "code",
   "execution_count": 3,
   "metadata": {
    "executionInfo": {
     "elapsed": 870,
     "status": "ok",
     "timestamp": 1664468547277,
     "user": {
      "displayName": "Eduardo Garduño Martínez",
      "userId": "04776288877101477919"
     },
     "user_tz": 300
    },
    "id": "kbBLYL6o2yfA"
   },
   "outputs": [],
   "source": [
    "import pandas as pd\n",
    "import networkx as nx"
   ]
  },
  {
   "cell_type": "code",
   "execution_count": 4,
   "metadata": {
    "colab": {
     "base_uri": "https://localhost:8080/",
     "height": 300
    },
    "executionInfo": {
     "elapsed": 26,
     "status": "ok",
     "timestamp": 1664468547281,
     "user": {
      "displayName": "Eduardo Garduño Martínez",
      "userId": "04776288877101477919"
     },
     "user_tz": 300
    },
    "id": "J3OGnG1n3B9I",
    "outputId": "32a25045-6715-45cc-c088-eb013603221f"
   },
   "outputs": [
    {
     "data": {
      "text/html": [
       "<div>\n",
       "<style scoped>\n",
       "    .dataframe tbody tr th:only-of-type {\n",
       "        vertical-align: middle;\n",
       "    }\n",
       "\n",
       "    .dataframe tbody tr th {\n",
       "        vertical-align: top;\n",
       "    }\n",
       "\n",
       "    .dataframe thead th {\n",
       "        text-align: right;\n",
       "    }\n",
       "</style>\n",
       "<table border=\"1\" class=\"dataframe\">\n",
       "  <thead>\n",
       "    <tr style=\"text-align: right;\">\n",
       "      <th></th>\n",
       "      <th>0</th>\n",
       "      <th>1</th>\n",
       "    </tr>\n",
       "  </thead>\n",
       "  <tbody>\n",
       "    <tr>\n",
       "      <th>0</th>\n",
       "      <td>1</td>\n",
       "      <td>2</td>\n",
       "    </tr>\n",
       "    <tr>\n",
       "      <th>1</th>\n",
       "      <td>1</td>\n",
       "      <td>3</td>\n",
       "    </tr>\n",
       "    <tr>\n",
       "      <th>2</th>\n",
       "      <td>1</td>\n",
       "      <td>4</td>\n",
       "    </tr>\n",
       "    <tr>\n",
       "      <th>3</th>\n",
       "      <td>2</td>\n",
       "      <td>1</td>\n",
       "    </tr>\n",
       "    <tr>\n",
       "      <th>4</th>\n",
       "      <td>2</td>\n",
       "      <td>4</td>\n",
       "    </tr>\n",
       "    <tr>\n",
       "      <th>5</th>\n",
       "      <td>3</td>\n",
       "      <td>5</td>\n",
       "    </tr>\n",
       "    <tr>\n",
       "      <th>6</th>\n",
       "      <td>4</td>\n",
       "      <td>2</td>\n",
       "    </tr>\n",
       "    <tr>\n",
       "      <th>7</th>\n",
       "      <td>4</td>\n",
       "      <td>3</td>\n",
       "    </tr>\n",
       "  </tbody>\n",
       "</table>\n",
       "</div>"
      ],
      "text/plain": [
       "   0  1\n",
       "0  1  2\n",
       "1  1  3\n",
       "2  1  4\n",
       "3  2  1\n",
       "4  2  4\n",
       "5  3  5\n",
       "6  4  2\n",
       "7  4  3"
      ]
     },
     "execution_count": 4,
     "metadata": {},
     "output_type": "execute_result"
    }
   ],
   "source": [
    "data = pd.read_csv('data_hist.txt',delimiter=' ',header=None)\n",
    "data"
   ]
  },
  {
   "cell_type": "code",
   "execution_count": 5,
   "metadata": {
    "colab": {
     "base_uri": "https://localhost:8080/",
     "height": 319
    },
    "executionInfo": {
     "elapsed": 520,
     "status": "ok",
     "timestamp": 1664468547781,
     "user": {
      "displayName": "Eduardo Garduño Martínez",
      "userId": "04776288877101477919"
     },
     "user_tz": 300
    },
    "id": "uMwMpny83ptG",
    "outputId": "8fb7a1bf-2082-4eb1-c96a-8ae0bc679613"
   },
   "outputs": [],
   "source": [
    "g = nx.DiGraph()\n",
    "\n",
    "for j in range(data.shape[0]):\n",
    "    g.add_node(data.iloc[j,0])\n",
    "    g.add_node(data.iloc[j,1])\n",
    "\n",
    "for j in range(data.shape[0]):\n",
    "    g.add_edge(data.iloc[j,0],data.iloc[j,1])\n",
    "    \n",
    "\n",
    "#nx.draw(g,with_labels=True)"
   ]
  },
  {
   "cell_type": "code",
   "execution_count": 6,
   "metadata": {
    "colab": {
     "base_uri": "https://localhost:8080/"
    },
    "executionInfo": {
     "elapsed": 22,
     "status": "ok",
     "timestamp": 1664468547785,
     "user": {
      "displayName": "Eduardo Garduño Martínez",
      "userId": "04776288877101477919"
     },
     "user_tz": 300
    },
    "id": "ybscyJxs4AC4",
    "outputId": "c1880b83-4968-42f0-f531-e151686143e4"
   },
   "outputs": [
    {
     "name": "stdout",
     "output_type": "stream",
     "text": [
      "Nodo:1, Hub:0.4819745725634493, Auth:0.06958844521597758\n",
      "Nodo:2, Hub:0.17269554060968756, Auth:0.33331743721140394\n",
      "Nodo:3, Hub:5.981856550533708e-08, Auth:0.33331743721140394\n",
      "Nodo:4, Hub:0.3453298270082977, Auth:0.26377663383597955\n",
      "Nodo:5, Hub:0.0, Auth:4.652523491521613e-08\n"
     ]
    }
   ],
   "source": [
    "from networkx.classes import DiGraph\n",
    "\n",
    "def hits(g,iter=10,num_nodes=5,x=1,imprimir=False):\n",
    "\n",
    "    for j in g.nodes:\n",
    "        g.nodes[j]['auth'] = 1\n",
    "        g.nodes[j]['hub'] = 1\n",
    "        g.nodes[j]['auth_'] = 0\n",
    "        g.nodes[j]['hub_'] = 0\n",
    "\n",
    "\n",
    "    \n",
    "    for i in range(iter):\n",
    "        #Hub\n",
    "        for j in g.nodes:\n",
    "            for k in list(g.successors(j)):\n",
    "                g.nodes[j]['hub_'] += g.nodes[k]['auth']\n",
    "\n",
    "        #Auth\n",
    "        for j in g.nodes:\n",
    "            for k in list(g.predecessors(j)):\n",
    "                g.nodes[j]['auth_'] += g.nodes[k]['hub']\n",
    "\n",
    "        for j in g.nodes:\n",
    "            g.nodes[j]['auth'] = g.nodes[j]['auth_']\n",
    "            g.nodes[j]['hub'] = g.nodes[j]['hub_']\n",
    "            g.nodes[j]['auth_'] = 0\n",
    "            g.nodes[j]['hub_'] = 0\n",
    "\n",
    "\n",
    "    #Normalización\n",
    "    auth = 0\n",
    "    hub = 0\n",
    "    for j in g.nodes:\n",
    "        auth += g.nodes[j]['auth']\n",
    "        hub += g.nodes[j]['hub']\n",
    "\n",
    "    for j in g.nodes:\n",
    "        g.nodes[j]['auth'] = g.nodes[j]['auth']/auth\n",
    "        g.nodes[j]['hub'] = g.nodes[j]['hub']/hub\n",
    "\n",
    "        \n",
    "    if imprimir:\n",
    "        for j in range(x,num_nodes+1):\n",
    "            print('Nodo:'+str(j)+','+' Hub:'+str(g.nodes[j]['hub'])+','+' Auth:'+str(g.nodes[j]['auth']))\n",
    "\n",
    "hits(g,iter=20,num_nodes=5,x=1,imprimir=True)\n"
   ]
  },
  {
   "cell_type": "code",
   "execution_count": 7,
   "metadata": {
    "colab": {
     "base_uri": "https://localhost:8080/"
    },
    "executionInfo": {
     "elapsed": 299,
     "status": "ok",
     "timestamp": 1664468548066,
     "user": {
      "displayName": "Eduardo Garduño Martínez",
      "userId": "04776288877101477919"
     },
     "user_tz": 300
    },
    "id": "irb_UJpRDYXo",
    "outputId": "735ac6c7-1079-4bbd-de94-8700a5d30fc7"
   },
   "outputs": [
    {
     "name": "stdout",
     "output_type": "stream",
     "text": [
      "{1: 0.4819800763291006, 2: 0.1726747927992877, 3: 5.438563012960775e-10, 4: 0.34534513032775527, 5: 0.0}\n",
      "{1: 0.06957231788026488, 2: 0.33333189955368864, 3: 0.33333189955368864, 4: 0.2637638819624827, 5: 1.0498752585462184e-09}\n"
     ]
    }
   ],
   "source": [
    "hubs, authorities = nx.hits(g, max_iter = 20, tol=1e-05, normalized = True)\n",
    "print(hubs)\n",
    "print(authorities)"
   ]
  },
  {
   "cell_type": "code",
   "execution_count": 10,
   "metadata": {
    "executionInfo": {
     "elapsed": 13,
     "status": "ok",
     "timestamp": 1664468548068,
     "user": {
      "displayName": "Eduardo Garduño Martínez",
      "userId": "04776288877101477919"
     },
     "user_tz": 300
    },
    "id": "V_rcBWZLDiyZ"
   },
   "outputs": [],
   "source": [
    "H = nx.gnp_random_graph(n=10000, p=0.001,seed=10,directed=True)"
   ]
  },
  {
   "cell_type": "code",
   "execution_count": 11,
   "metadata": {},
   "outputs": [
    {
     "name": "stdout",
     "output_type": "stream",
     "text": [
      "3.27 s ± 40.7 ms per loop (mean ± std. dev. of 7 runs, 1 loop each)\n"
     ]
    }
   ],
   "source": [
    "%%timeit\n",
    "hubs, authorities = nx.hits(H, max_iter = 20, tol=1e-05, normalized = True)"
   ]
  },
  {
   "cell_type": "code",
   "execution_count": 12,
   "metadata": {},
   "outputs": [
    {
     "name": "stdout",
     "output_type": "stream",
     "text": [
      "4.66 s ± 104 ms per loop (mean ± std. dev. of 7 runs, 1 loop each)\n"
     ]
    }
   ],
   "source": [
    "%%timeit\n",
    "hits(H,iter=20,num_nodes=10,x=0)"
   ]
  },
  {
   "cell_type": "code",
   "execution_count": 13,
   "metadata": {},
   "outputs": [
    {
     "name": "stdout",
     "output_type": "stream",
     "text": [
      "Nodo: 0, Hub: 0.00015123190157080146, Auth: 0.00011790239251214095\n",
      "Nodo: 1, Hub: 7.709086871507707e-05, Auth: 9.554365467565576e-05\n",
      "Nodo: 2, Hub: 7.817217424545376e-05, Auth: 7.690359653708577e-05\n",
      "Nodo: 3, Hub: 0.00011785483963687767, Auth: 6.428285769809642e-05\n",
      "Nodo: 4, Hub: 0.00014991588255458218, Auth: 6.044742964376068e-05\n",
      "Nodo: 5, Hub: 0.0001119324621234228, Auth: 0.00011824026314138308\n",
      "Nodo: 6, Hub: 0.00010556796123052545, Auth: 0.00010647493624735866\n",
      "Nodo: 7, Hub: 0.00018250988227468479, Auth: 0.00015672282275511738\n",
      "Nodo: 8, Hub: 9.186688088233218e-05, Auth: 0.00012802814356367487\n",
      "Nodo: 9, Hub: 0.00010856991984209042, Auth: 5.870022138972964e-05\n"
     ]
    }
   ],
   "source": [
    "hubs, authorities = nx.hits(H, max_iter = 20, tol=1e-05, normalized = True)\n",
    "\n",
    "for j in range(10):\n",
    "    print('Nodo: {}, Hub: {}, Auth: {}'.format(j,hubs[j],authorities[j]))"
   ]
  },
  {
   "cell_type": "code",
   "execution_count": 14,
   "metadata": {},
   "outputs": [
    {
     "name": "stdout",
     "output_type": "stream",
     "text": [
      "Nodo:0, Hub:0.00015123197927006862, Auth:0.00011790255542392277\n",
      "Nodo:1, Hub:7.709085927512609e-05, Auth:9.554370692614207e-05\n",
      "Nodo:2, Hub:7.817217528955438e-05, Auth:7.690355310946622e-05\n",
      "Nodo:3, Hub:0.00011785524600949364, Auth:6.4282987958156e-05\n",
      "Nodo:4, Hub:0.0001499157978431373, Auth:6.044747801783409e-05\n",
      "Nodo:5, Hub:0.00011193246415238676, Auth:0.00011824017743538653\n",
      "Nodo:6, Hub:0.00010556795580901718, Auth:0.0001064750363485092\n",
      "Nodo:7, Hub:0.00018250992468177456, Auth:0.00015672278422609466\n",
      "Nodo:8, Hub:9.186675728587782e-05, Auth:0.00012802813691413113\n",
      "Nodo:9, Hub:0.00010857007458680654, Auth:5.8700174887669576e-05\n",
      "Nodo:10, Hub:6.366623015739824e-05, Auth:0.00012996753188745954\n"
     ]
    }
   ],
   "source": [
    "hits(H,iter=20,num_nodes=10,x=0,imprimir=True)"
   ]
  },
  {
   "cell_type": "code",
   "execution_count": null,
   "metadata": {},
   "outputs": [],
   "source": []
  }
 ],
 "metadata": {
  "colab": {
   "authorship_tag": "ABX9TyNfFPL6LeBFjOIPue/R7Ge0",
   "provenance": []
  },
  "kernelspec": {
   "display_name": "Python 3.8.8 ('base')",
   "language": "python",
   "name": "python3"
  },
  "language_info": {
   "codemirror_mode": {
    "name": "ipython",
    "version": 3
   },
   "file_extension": ".py",
   "mimetype": "text/x-python",
   "name": "python",
   "nbconvert_exporter": "python",
   "pygments_lexer": "ipython3",
   "version": "3.8.8"
  },
  "vscode": {
   "interpreter": {
    "hash": "ad2bdc8ecc057115af97d19610ffacc2b4e99fae6737bb82f5d7fb13d2f2c186"
   }
  }
 },
 "nbformat": 4,
 "nbformat_minor": 1
}
