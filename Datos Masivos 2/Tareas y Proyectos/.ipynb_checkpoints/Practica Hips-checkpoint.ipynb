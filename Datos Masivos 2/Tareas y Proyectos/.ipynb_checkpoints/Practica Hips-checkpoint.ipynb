{
 "cells": [
  {
   "cell_type": "code",
   "execution_count": 1,
   "metadata": {
    "executionInfo": {
     "elapsed": 870,
     "status": "ok",
     "timestamp": 1664468547277,
     "user": {
      "displayName": "Eduardo Garduño Martínez",
      "userId": "04776288877101477919"
     },
     "user_tz": 300
    },
    "id": "kbBLYL6o2yfA"
   },
   "outputs": [],
   "source": [
    "import pandas as pd\n",
    "import networkx as nx"
   ]
  },
  {
   "cell_type": "code",
   "execution_count": 2,
   "metadata": {
    "colab": {
     "base_uri": "https://localhost:8080/",
     "height": 300
    },
    "executionInfo": {
     "elapsed": 26,
     "status": "ok",
     "timestamp": 1664468547281,
     "user": {
      "displayName": "Eduardo Garduño Martínez",
      "userId": "04776288877101477919"
     },
     "user_tz": 300
    },
    "id": "J3OGnG1n3B9I",
    "outputId": "32a25045-6715-45cc-c088-eb013603221f"
   },
   "outputs": [
    {
     "data": {
      "text/html": [
       "\n",
       "  <div id=\"df-6050ee3a-b7cd-45fa-a6ce-2935505fbe2f\">\n",
       "    <div class=\"colab-df-container\">\n",
       "      <div>\n",
       "<style scoped>\n",
       "    .dataframe tbody tr th:only-of-type {\n",
       "        vertical-align: middle;\n",
       "    }\n",
       "\n",
       "    .dataframe tbody tr th {\n",
       "        vertical-align: top;\n",
       "    }\n",
       "\n",
       "    .dataframe thead th {\n",
       "        text-align: right;\n",
       "    }\n",
       "</style>\n",
       "<table border=\"1\" class=\"dataframe\">\n",
       "  <thead>\n",
       "    <tr style=\"text-align: right;\">\n",
       "      <th></th>\n",
       "      <th>0</th>\n",
       "      <th>1</th>\n",
       "    </tr>\n",
       "  </thead>\n",
       "  <tbody>\n",
       "    <tr>\n",
       "      <th>0</th>\n",
       "      <td>1</td>\n",
       "      <td>2</td>\n",
       "    </tr>\n",
       "    <tr>\n",
       "      <th>1</th>\n",
       "      <td>1</td>\n",
       "      <td>3</td>\n",
       "    </tr>\n",
       "    <tr>\n",
       "      <th>2</th>\n",
       "      <td>1</td>\n",
       "      <td>4</td>\n",
       "    </tr>\n",
       "    <tr>\n",
       "      <th>3</th>\n",
       "      <td>2</td>\n",
       "      <td>1</td>\n",
       "    </tr>\n",
       "    <tr>\n",
       "      <th>4</th>\n",
       "      <td>2</td>\n",
       "      <td>4</td>\n",
       "    </tr>\n",
       "    <tr>\n",
       "      <th>5</th>\n",
       "      <td>3</td>\n",
       "      <td>5</td>\n",
       "    </tr>\n",
       "    <tr>\n",
       "      <th>6</th>\n",
       "      <td>4</td>\n",
       "      <td>2</td>\n",
       "    </tr>\n",
       "    <tr>\n",
       "      <th>7</th>\n",
       "      <td>4</td>\n",
       "      <td>3</td>\n",
       "    </tr>\n",
       "  </tbody>\n",
       "</table>\n",
       "</div>\n",
       "      <button class=\"colab-df-convert\" onclick=\"convertToInteractive('df-6050ee3a-b7cd-45fa-a6ce-2935505fbe2f')\"\n",
       "              title=\"Convert this dataframe to an interactive table.\"\n",
       "              style=\"display:none;\">\n",
       "        \n",
       "  <svg xmlns=\"http://www.w3.org/2000/svg\" height=\"24px\"viewBox=\"0 0 24 24\"\n",
       "       width=\"24px\">\n",
       "    <path d=\"M0 0h24v24H0V0z\" fill=\"none\"/>\n",
       "    <path d=\"M18.56 5.44l.94 2.06.94-2.06 2.06-.94-2.06-.94-.94-2.06-.94 2.06-2.06.94zm-11 1L8.5 8.5l.94-2.06 2.06-.94-2.06-.94L8.5 2.5l-.94 2.06-2.06.94zm10 10l.94 2.06.94-2.06 2.06-.94-2.06-.94-.94-2.06-.94 2.06-2.06.94z\"/><path d=\"M17.41 7.96l-1.37-1.37c-.4-.4-.92-.59-1.43-.59-.52 0-1.04.2-1.43.59L10.3 9.45l-7.72 7.72c-.78.78-.78 2.05 0 2.83L4 21.41c.39.39.9.59 1.41.59.51 0 1.02-.2 1.41-.59l7.78-7.78 2.81-2.81c.8-.78.8-2.07 0-2.86zM5.41 20L4 18.59l7.72-7.72 1.47 1.35L5.41 20z\"/>\n",
       "  </svg>\n",
       "      </button>\n",
       "      \n",
       "  <style>\n",
       "    .colab-df-container {\n",
       "      display:flex;\n",
       "      flex-wrap:wrap;\n",
       "      gap: 12px;\n",
       "    }\n",
       "\n",
       "    .colab-df-convert {\n",
       "      background-color: #E8F0FE;\n",
       "      border: none;\n",
       "      border-radius: 50%;\n",
       "      cursor: pointer;\n",
       "      display: none;\n",
       "      fill: #1967D2;\n",
       "      height: 32px;\n",
       "      padding: 0 0 0 0;\n",
       "      width: 32px;\n",
       "    }\n",
       "\n",
       "    .colab-df-convert:hover {\n",
       "      background-color: #E2EBFA;\n",
       "      box-shadow: 0px 1px 2px rgba(60, 64, 67, 0.3), 0px 1px 3px 1px rgba(60, 64, 67, 0.15);\n",
       "      fill: #174EA6;\n",
       "    }\n",
       "\n",
       "    [theme=dark] .colab-df-convert {\n",
       "      background-color: #3B4455;\n",
       "      fill: #D2E3FC;\n",
       "    }\n",
       "\n",
       "    [theme=dark] .colab-df-convert:hover {\n",
       "      background-color: #434B5C;\n",
       "      box-shadow: 0px 1px 3px 1px rgba(0, 0, 0, 0.15);\n",
       "      filter: drop-shadow(0px 1px 2px rgba(0, 0, 0, 0.3));\n",
       "      fill: #FFFFFF;\n",
       "    }\n",
       "  </style>\n",
       "\n",
       "      <script>\n",
       "        const buttonEl =\n",
       "          document.querySelector('#df-6050ee3a-b7cd-45fa-a6ce-2935505fbe2f button.colab-df-convert');\n",
       "        buttonEl.style.display =\n",
       "          google.colab.kernel.accessAllowed ? 'block' : 'none';\n",
       "\n",
       "        async function convertToInteractive(key) {\n",
       "          const element = document.querySelector('#df-6050ee3a-b7cd-45fa-a6ce-2935505fbe2f');\n",
       "          const dataTable =\n",
       "            await google.colab.kernel.invokeFunction('convertToInteractive',\n",
       "                                                     [key], {});\n",
       "          if (!dataTable) return;\n",
       "\n",
       "          const docLinkHtml = 'Like what you see? Visit the ' +\n",
       "            '<a target=\"_blank\" href=https://colab.research.google.com/notebooks/data_table.ipynb>data table notebook</a>'\n",
       "            + ' to learn more about interactive tables.';\n",
       "          element.innerHTML = '';\n",
       "          dataTable['output_type'] = 'display_data';\n",
       "          await google.colab.output.renderOutput(dataTable, element);\n",
       "          const docLink = document.createElement('div');\n",
       "          docLink.innerHTML = docLinkHtml;\n",
       "          element.appendChild(docLink);\n",
       "        }\n",
       "      </script>\n",
       "    </div>\n",
       "  </div>\n",
       "  "
      ],
      "text/plain": [
       "   0  1\n",
       "0  1  2\n",
       "1  1  3\n",
       "2  1  4\n",
       "3  2  1\n",
       "4  2  4\n",
       "5  3  5\n",
       "6  4  2\n",
       "7  4  3"
      ]
     },
     "execution_count": 2,
     "metadata": {},
     "output_type": "execute_result"
    }
   ],
   "source": [
    "data = pd.read_csv('data_hist.txt',delimiter=' ',header=None)\n",
    "data"
   ]
  },
  {
   "cell_type": "code",
   "execution_count": 3,
   "metadata": {
    "colab": {
     "base_uri": "https://localhost:8080/",
     "height": 319
    },
    "executionInfo": {
     "elapsed": 520,
     "status": "ok",
     "timestamp": 1664468547781,
     "user": {
      "displayName": "Eduardo Garduño Martínez",
      "userId": "04776288877101477919"
     },
     "user_tz": 300
    },
    "id": "uMwMpny83ptG",
    "outputId": "8fb7a1bf-2082-4eb1-c96a-8ae0bc679613"
   },
   "outputs": [
    {
     "data": {
      "image/png": "[encoded data removed]",
      "text/plain": [
       "<Figure size 432x288 with 1 Axes>"
      ]
     },
     "metadata": {},
     "output_type": "display_data"
    }
   ],
   "source": [
    "g = nx.DiGraph()\n",
    "\n",
    "for j in range(data.shape[0]):\n",
    "    g.add_node(data.iloc[j,0])\n",
    "    g.add_node(data.iloc[j,1])\n",
    "\n",
    "for j in range(data.shape[0]):\n",
    "    g.add_edge(data.iloc[j,0],data.iloc[j,1])\n",
    "    \n",
    "\n",
    "nx.draw(g,with_labels=True)"
   ]
  },
  {
   "cell_type": "code",
   "execution_count": 4,
   "metadata": {
    "colab": {
     "base_uri": "https://localhost:8080/"
    },
    "executionInfo": {
     "elapsed": 22,
     "status": "ok",
     "timestamp": 1664468547785,
     "user": {
      "displayName": "Eduardo Garduño Martínez",
      "userId": "04776288877101477919"
     },
     "user_tz": 300
    },
    "id": "ybscyJxs4AC4",
    "outputId": "c1880b83-4968-42f0-f531-e151686143e4"
   },
   "outputs": [
    {
     "name": "stdout",
     "output_type": "stream",
     "text": [
      "Nodo:1, Hub:0.4819745725634493, Auth:0.06958844521597758\n",
      "Nodo:2, Hub:0.17269554060968756, Auth:0.33331743721140394\n",
      "Nodo:3, Hub:5.981856550533708e-08, Auth:0.33331743721140394\n",
      "Nodo:4, Hub:0.3453298270082977, Auth:0.26377663383597955\n",
      "Nodo:5, Hub:0.0, Auth:4.652523491521613e-08\n"
     ]
    }
   ],
   "source": [
    "from networkx.classes import DiGraph\n",
    "\n",
    "def hits(g,iter=10):\n",
    "\n",
    "    for j in g.nodes:\n",
    "        g.nodes[j]['auth'] = 1\n",
    "        g.nodes[j]['hub'] = 1\n",
    "        g.nodes[j]['auth_'] = 0\n",
    "        g.nodes[j]['hub_'] = 0\n",
    "\n",
    "\n",
    "    \n",
    "    for i in range(iter):\n",
    "        #Hub\n",
    "        for j in g.nodes:\n",
    "            for k in list(g.successors(j)):\n",
    "                g.nodes[j]['hub_'] += g.nodes[k]['auth']\n",
    "\n",
    "        #Auth\n",
    "        for j in g.nodes:\n",
    "            for k in list(g.predecessors(j)):\n",
    "                g.nodes[j]['auth_'] += g.nodes[k]['hub']\n",
    "\n",
    "        for j in g.nodes:\n",
    "            g.nodes[j]['auth'] = g.nodes[j]['auth_']\n",
    "            g.nodes[j]['hub'] = g.nodes[j]['hub_']\n",
    "            g.nodes[j]['auth_'] = 0\n",
    "            g.nodes[j]['hub_'] = 0\n",
    "\n",
    "\n",
    "    #Normalización\n",
    "    auth = 0\n",
    "    hub = 0\n",
    "    for j in g.nodes:\n",
    "        auth += g.nodes[j]['auth']\n",
    "        hub += g.nodes[j]['hub']\n",
    "\n",
    "    for j in g.nodes:\n",
    "        g.nodes[j]['auth'] = g.nodes[j]['auth']/auth\n",
    "        g.nodes[j]['hub'] = g.nodes[j]['hub']/hub\n",
    "\n",
    "    for j in g.nodes:\n",
    "        print('Nodo:'+str(j)+','+' Hub:'+str(g.nodes[j]['hub'])+','+' Auth:'+str(g.nodes[j]['auth']))\n",
    "\n",
    "hits(g,iter=20)\n"
   ]
  },
  {
   "cell_type": "code",
   "execution_count": 5,
   "metadata": {
    "colab": {
     "base_uri": "https://localhost:8080/"
    },
    "executionInfo": {
     "elapsed": 299,
     "status": "ok",
     "timestamp": 1664468548066,
     "user": {
      "displayName": "Eduardo Garduño Martínez",
      "userId": "04776288877101477919"
     },
     "user_tz": 300
    },
    "id": "irb_UJpRDYXo",
    "outputId": "735ac6c7-1079-4bbd-de94-8700a5d30fc7"
   },
   "outputs": [
    {
     "name": "stdout",
     "output_type": "stream",
     "text": [
      "{1: 0.48198050606196574, 2: 0.17267316464601148, 3: 1.4310010472015295e-17, 4: 0.34534632929202286, 5: 0.0}\n",
      "{1: 0.06957071750736005, 2: 0.3333333333333333, 3: 0.3333333333333333, 4: 0.2637626158259734, 5: 2.7624463247954646e-17}\n"
     ]
    }
   ],
   "source": [
    "hubs, authorities = nx.hits(g, max_iter = 20, tol=0, normalized = True)\n",
    "print(hubs)\n",
    "print(authorities)"
   ]
  },
  {
   "cell_type": "code",
   "execution_count": null,
   "metadata": {
    "executionInfo": {
     "elapsed": 13,
     "status": "ok",
     "timestamp": 1664468548068,
     "user": {
      "displayName": "Eduardo Garduño Martínez",
      "userId": "04776288877101477919"
     },
     "user_tz": 300
    },
    "id": "V_rcBWZLDiyZ"
   },
   "outputs": [],
   "source": [
    "H = nx.random_k_out_graph(n=10000, k =3,alpha=1,self_loops=False,seed=1)"
   ]
  },
  {
   "cell_type": "code",
   "execution_count": null,
   "metadata": {},
   "outputs": [],
   "source": [
    "hubs, authorities = nx.hits(H, max_iter = 20, tol=0, normalized = True)\n",
    "print(hubs)\n",
    "print(authorities)"
   ]
  },
  {
   "cell_type": "code",
   "execution_count": null,
   "metadata": {},
   "outputs": [],
   "source": [
    "hits(H,iter=20,num_nodes=10,x=0)"
   ]
  },
  {
   "cell_type": "code",
   "execution_count": null,
   "metadata": {},
   "outputs": [],
   "source": []
  }
 ],
 "metadata": {
  "colab": {
   "authorship_tag": "ABX9TyNfFPL6LeBFjOIPue/R7Ge0",
   "provenance": []
  },
  "kernelspec": {
   "display_name": "Python 3",
   "language": "python",
   "name": "python3"
  },
  "language_info": {
   "codemirror_mode": {
    "name": "ipython",
    "version": 3
   },
   "file_extension": ".py",
   "mimetype": "text/x-python",
   "name": "python",
   "nbconvert_exporter": "python",
   "pygments_lexer": "ipython3",
   "version": "3.8.8"
  }
 },
 "nbformat": 4,
 "nbformat_minor": 1
}
