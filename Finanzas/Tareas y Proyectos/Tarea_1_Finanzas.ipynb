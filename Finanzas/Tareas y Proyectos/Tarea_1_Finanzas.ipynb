{
  "nbformat": 4,
  "nbformat_minor": 0,
  "metadata": {
    "colab": {
      "provenance": []
    },
    "kernelspec": {
      "name": "python3",
      "display_name": "Python 3"
    },
    "language_info": {
      "name": "python"
    }
  },
  "cells": [
    {
      "cell_type": "code",
      "execution_count": null,
      "metadata": {
        "id": "rEDcYJ8Cty9-"
      },
      "outputs": [],
      "source": [
        "import pandas as pd\n",
        "import numpy as np\n",
        "from sklearn.model_selection import train_test_split\n",
        "from sklearn.linear_model import LinearRegression\n",
        "from sklearn.linear_model import Lasso\n",
        "from sklearn.linear_model import Ridge\n",
        "from sklearn.metrics import mean_squared_error\n",
        "from sklearn.preprocessing import MinMaxScaler, StandardScaler\n",
        "from sklearn.decomposition import PCA"
      ]
    },
    {
      "cell_type": "code",
      "source": [
        "#Leemos los datos\n",
        "walventas = pd.read_csv('walventas.csv')\n",
        "walventas"
      ],
      "metadata": {
        "colab": {
          "base_uri": "https://localhost:8080/",
          "height": 488
        },
        "id": "J1bntxEANyG8",
        "outputId": "27d9faf2-b2e8-457c-fd52-700fb7e2d880"
      },
      "execution_count": null,
      "outputs": [
        {
          "output_type": "execute_result",
          "data": {
            "text/plain": [
              "     Año  Ventas   Retail  AP_AnC  CAPEX      PIB  Inflación\n",
              "0   2008  244917  2243854   73701  11316  1109.99       5.13\n",
              "1   2009  270451  2263837   79265   9735   900.05       5.30\n",
              "2   2010  335857  2366038  125695  13130  1057.80       4.16\n",
              "3   2011  380907  2516975  135820  18352  1180.49       3.40\n",
              "4   2012  412060  2827168  135991  14660  1201.09       4.11\n",
              "5   2013  423823  2946624  139270  13987  1274.44       3.80\n",
              "6   2014  440988  3036967  147892  12691  1315.36       4.02\n",
              "7   2015  475911  3234206  157385  12526  1171.87       2.72\n",
              "8   2016  532384  3498472  171238  14335  1078.49       2.82\n",
              "9   2017  573371  3787143  175088  17426  1158.91       6.04\n",
              "10  2018  616910  4039711  178594  17933  1222.41       4.90\n",
              "11  2019  646846  4293736  183548  20575  1269.40       3.63\n",
              "12  2020  701734  4217760  186985  16728  1087.12       3.40\n",
              "13  2021  736044  4583356  195038  20466  1294.83       5.69"
            ],
            "text/html": [
              "\n",
              "  <div id=\"df-1eefc33a-1385-48eb-9cee-af61baa396c3\">\n",
              "    <div class=\"colab-df-container\">\n",
              "      <div>\n",
              "<style scoped>\n",
              "    .dataframe tbody tr th:only-of-type {\n",
              "        vertical-align: middle;\n",
              "    }\n",
              "\n",
              "    .dataframe tbody tr th {\n",
              "        vertical-align: top;\n",
              "    }\n",
              "\n",
              "    .dataframe thead th {\n",
              "        text-align: right;\n",
              "    }\n",
              "</style>\n",
              "<table border=\"1\" class=\"dataframe\">\n",
              "  <thead>\n",
              "    <tr style=\"text-align: right;\">\n",
              "      <th></th>\n",
              "      <th>Año</th>\n",
              "      <th>Ventas</th>\n",
              "      <th>Retail</th>\n",
              "      <th>AP_AnC</th>\n",
              "      <th>CAPEX</th>\n",
              "      <th>PIB</th>\n",
              "      <th>Inflación</th>\n",
              "    </tr>\n",
              "  </thead>\n",
              "  <tbody>\n",
              "    <tr>\n",
              "      <th>0</th>\n",
              "      <td>2008</td>\n",
              "      <td>244917</td>\n",
              "      <td>2243854</td>\n",
              "      <td>73701</td>\n",
              "      <td>11316</td>\n",
              "      <td>1109.99</td>\n",
              "      <td>5.13</td>\n",
              "    </tr>\n",
              "    <tr>\n",
              "      <th>1</th>\n",
              "      <td>2009</td>\n",
              "      <td>270451</td>\n",
              "      <td>2263837</td>\n",
              "      <td>79265</td>\n",
              "      <td>9735</td>\n",
              "      <td>900.05</td>\n",
              "      <td>5.30</td>\n",
              "    </tr>\n",
              "    <tr>\n",
              "      <th>2</th>\n",
              "      <td>2010</td>\n",
              "      <td>335857</td>\n",
              "      <td>2366038</td>\n",
              "      <td>125695</td>\n",
              "      <td>13130</td>\n",
              "      <td>1057.80</td>\n",
              "      <td>4.16</td>\n",
              "    </tr>\n",
              "    <tr>\n",
              "      <th>3</th>\n",
              "      <td>2011</td>\n",
              "      <td>380907</td>\n",
              "      <td>2516975</td>\n",
              "      <td>135820</td>\n",
              "      <td>18352</td>\n",
              "      <td>1180.49</td>\n",
              "      <td>3.40</td>\n",
              "    </tr>\n",
              "    <tr>\n",
              "      <th>4</th>\n",
              "      <td>2012</td>\n",
              "      <td>412060</td>\n",
              "      <td>2827168</td>\n",
              "      <td>135991</td>\n",
              "      <td>14660</td>\n",
              "      <td>1201.09</td>\n",
              "      <td>4.11</td>\n",
              "    </tr>\n",
              "    <tr>\n",
              "      <th>5</th>\n",
              "      <td>2013</td>\n",
              "      <td>423823</td>\n",
              "      <td>2946624</td>\n",
              "      <td>139270</td>\n",
              "      <td>13987</td>\n",
              "      <td>1274.44</td>\n",
              "      <td>3.80</td>\n",
              "    </tr>\n",
              "    <tr>\n",
              "      <th>6</th>\n",
              "      <td>2014</td>\n",
              "      <td>440988</td>\n",
              "      <td>3036967</td>\n",
              "      <td>147892</td>\n",
              "      <td>12691</td>\n",
              "      <td>1315.36</td>\n",
              "      <td>4.02</td>\n",
              "    </tr>\n",
              "    <tr>\n",
              "      <th>7</th>\n",
              "      <td>2015</td>\n",
              "      <td>475911</td>\n",
              "      <td>3234206</td>\n",
              "      <td>157385</td>\n",
              "      <td>12526</td>\n",
              "      <td>1171.87</td>\n",
              "      <td>2.72</td>\n",
              "    </tr>\n",
              "    <tr>\n",
              "      <th>8</th>\n",
              "      <td>2016</td>\n",
              "      <td>532384</td>\n",
              "      <td>3498472</td>\n",
              "      <td>171238</td>\n",
              "      <td>14335</td>\n",
              "      <td>1078.49</td>\n",
              "      <td>2.82</td>\n",
              "    </tr>\n",
              "    <tr>\n",
              "      <th>9</th>\n",
              "      <td>2017</td>\n",
              "      <td>573371</td>\n",
              "      <td>3787143</td>\n",
              "      <td>175088</td>\n",
              "      <td>17426</td>\n",
              "      <td>1158.91</td>\n",
              "      <td>6.04</td>\n",
              "    </tr>\n",
              "    <tr>\n",
              "      <th>10</th>\n",
              "      <td>2018</td>\n",
              "      <td>616910</td>\n",
              "      <td>4039711</td>\n",
              "      <td>178594</td>\n",
              "      <td>17933</td>\n",
              "      <td>1222.41</td>\n",
              "      <td>4.90</td>\n",
              "    </tr>\n",
              "    <tr>\n",
              "      <th>11</th>\n",
              "      <td>2019</td>\n",
              "      <td>646846</td>\n",
              "      <td>4293736</td>\n",
              "      <td>183548</td>\n",
              "      <td>20575</td>\n",
              "      <td>1269.40</td>\n",
              "      <td>3.63</td>\n",
              "    </tr>\n",
              "    <tr>\n",
              "      <th>12</th>\n",
              "      <td>2020</td>\n",
              "      <td>701734</td>\n",
              "      <td>4217760</td>\n",
              "      <td>186985</td>\n",
              "      <td>16728</td>\n",
              "      <td>1087.12</td>\n",
              "      <td>3.40</td>\n",
              "    </tr>\n",
              "    <tr>\n",
              "      <th>13</th>\n",
              "      <td>2021</td>\n",
              "      <td>736044</td>\n",
              "      <td>4583356</td>\n",
              "      <td>195038</td>\n",
              "      <td>20466</td>\n",
              "      <td>1294.83</td>\n",
              "      <td>5.69</td>\n",
              "    </tr>\n",
              "  </tbody>\n",
              "</table>\n",
              "</div>\n",
              "      <button class=\"colab-df-convert\" onclick=\"convertToInteractive('df-1eefc33a-1385-48eb-9cee-af61baa396c3')\"\n",
              "              title=\"Convert this dataframe to an interactive table.\"\n",
              "              style=\"display:none;\">\n",
              "        \n",
              "  <svg xmlns=\"http://www.w3.org/2000/svg\" height=\"24px\"viewBox=\"0 0 24 24\"\n",
              "       width=\"24px\">\n",
              "    <path d=\"M0 0h24v24H0V0z\" fill=\"none\"/>\n",
              "    <path d=\"M18.56 5.44l.94 2.06.94-2.06 2.06-.94-2.06-.94-.94-2.06-.94 2.06-2.06.94zm-11 1L8.5 8.5l.94-2.06 2.06-.94-2.06-.94L8.5 2.5l-.94 2.06-2.06.94zm10 10l.94 2.06.94-2.06 2.06-.94-2.06-.94-.94-2.06-.94 2.06-2.06.94z\"/><path d=\"M17.41 7.96l-1.37-1.37c-.4-.4-.92-.59-1.43-.59-.52 0-1.04.2-1.43.59L10.3 9.45l-7.72 7.72c-.78.78-.78 2.05 0 2.83L4 21.41c.39.39.9.59 1.41.59.51 0 1.02-.2 1.41-.59l7.78-7.78 2.81-2.81c.8-.78.8-2.07 0-2.86zM5.41 20L4 18.59l7.72-7.72 1.47 1.35L5.41 20z\"/>\n",
              "  </svg>\n",
              "      </button>\n",
              "      \n",
              "  <style>\n",
              "    .colab-df-container {\n",
              "      display:flex;\n",
              "      flex-wrap:wrap;\n",
              "      gap: 12px;\n",
              "    }\n",
              "\n",
              "    .colab-df-convert {\n",
              "      background-color: #E8F0FE;\n",
              "      border: none;\n",
              "      border-radius: 50%;\n",
              "      cursor: pointer;\n",
              "      display: none;\n",
              "      fill: #1967D2;\n",
              "      height: 32px;\n",
              "      padding: 0 0 0 0;\n",
              "      width: 32px;\n",
              "    }\n",
              "\n",
              "    .colab-df-convert:hover {\n",
              "      background-color: #E2EBFA;\n",
              "      box-shadow: 0px 1px 2px rgba(60, 64, 67, 0.3), 0px 1px 3px 1px rgba(60, 64, 67, 0.15);\n",
              "      fill: #174EA6;\n",
              "    }\n",
              "\n",
              "    [theme=dark] .colab-df-convert {\n",
              "      background-color: #3B4455;\n",
              "      fill: #D2E3FC;\n",
              "    }\n",
              "\n",
              "    [theme=dark] .colab-df-convert:hover {\n",
              "      background-color: #434B5C;\n",
              "      box-shadow: 0px 1px 3px 1px rgba(0, 0, 0, 0.15);\n",
              "      filter: drop-shadow(0px 1px 2px rgba(0, 0, 0, 0.3));\n",
              "      fill: #FFFFFF;\n",
              "    }\n",
              "  </style>\n",
              "\n",
              "      <script>\n",
              "        const buttonEl =\n",
              "          document.querySelector('#df-1eefc33a-1385-48eb-9cee-af61baa396c3 button.colab-df-convert');\n",
              "        buttonEl.style.display =\n",
              "          google.colab.kernel.accessAllowed ? 'block' : 'none';\n",
              "\n",
              "        async function convertToInteractive(key) {\n",
              "          const element = document.querySelector('#df-1eefc33a-1385-48eb-9cee-af61baa396c3');\n",
              "          const dataTable =\n",
              "            await google.colab.kernel.invokeFunction('convertToInteractive',\n",
              "                                                     [key], {});\n",
              "          if (!dataTable) return;\n",
              "\n",
              "          const docLinkHtml = 'Like what you see? Visit the ' +\n",
              "            '<a target=\"_blank\" href=https://colab.research.google.com/notebooks/data_table.ipynb>data table notebook</a>'\n",
              "            + ' to learn more about interactive tables.';\n",
              "          element.innerHTML = '';\n",
              "          dataTable['output_type'] = 'display_data';\n",
              "          await google.colab.output.renderOutput(dataTable, element);\n",
              "          const docLink = document.createElement('div');\n",
              "          docLink.innerHTML = docLinkHtml;\n",
              "          element.appendChild(docLink);\n",
              "        }\n",
              "      </script>\n",
              "    </div>\n",
              "  </div>\n",
              "  "
            ]
          },
          "metadata": {},
          "execution_count": 2
        }
      ]
    },
    {
      "cell_type": "code",
      "source": [
        "X = walventas.iloc[:,2:].values\n",
        "y = walventas.iloc[:,1].values\n",
        "X_train, X_test, y_train, y_test = train_test_split(X,y,test_size=0.3,random_state=10)\n",
        "\n",
        "#Normalizamos los datos\n",
        "norm = MinMaxScaler()\n",
        "X_train_norm = norm.fit_transform(X_train)\n",
        "X_test_norm = norm.transform(X_test)\n",
        "\n",
        "#Estandarización\n",
        "std = StandardScaler()\n",
        "X_train_std = std.fit_transform(X_train)\n",
        "X_test_std = std.transform(X_test)\n",
        "\n",
        "#PCA\n",
        "pca = PCA(n_components=3)\n",
        "X_train_pca = pca.fit_transform(X_train_std)\n",
        "X_test_pca = pca.transform(X_test_std)"
      ],
      "metadata": {
        "id": "t6ImnZHNN52m"
      },
      "execution_count": null,
      "outputs": []
    },
    {
      "cell_type": "code",
      "source": [
        "#Creación de los modelos\n",
        "lasso = Lasso(alpha=0.6)\n",
        "ridge = Ridge(alpha=0.5)\n",
        "lineal = LinearRegression()\n",
        "\n",
        "lasso_norm = Lasso(alpha=0.8)\n",
        "ridge_norm = Ridge(alpha=0.01)\n",
        "lineal_norm = LinearRegression()\n",
        "\n",
        "lasso_std = Lasso(alpha=0.1)\n",
        "ridge_std = Ridge(alpha=0.015)\n",
        "lineal_std = LinearRegression()\n",
        "\n",
        "lasso_pca = Lasso(alpha=0.01)\n",
        "ridge_pca = Ridge(alpha=1.0)\n",
        "lineal_pca = LinearRegression()"
      ],
      "metadata": {
        "id": "WQ1b5oU6Od2p"
      },
      "execution_count": null,
      "outputs": []
    },
    {
      "cell_type": "code",
      "source": [
        "#Entrenamiento de los modelos\n",
        "lasso.fit(X_train,y_train)\n",
        "ridge.fit(X_train,y_train)\n",
        "lineal.fit(X_train,y_train)\n",
        "\n",
        "lasso_norm.fit(X_train_norm,y_train)\n",
        "ridge_norm.fit(X_train_norm,y_train)\n",
        "lineal_norm.fit(X_train_norm,y_train)\n",
        "\n",
        "lasso_std.fit(X_train_std,y_train)\n",
        "ridge_std.fit(X_train_std,y_train)\n",
        "lineal_std.fit(X_train_std,y_train)\n",
        "\n",
        "lasso_pca.fit(X_train_pca,y_train)\n",
        "ridge_pca.fit(X_train_pca,y_train)\n",
        "lineal_pca.fit(X_train_pca,y_train)"
      ],
      "metadata": {
        "colab": {
          "base_uri": "https://localhost:8080/"
        },
        "id": "i9qxK7DZR-Mn",
        "outputId": "4a10947d-89bb-47af-a1ab-f5c5419b7a4b"
      },
      "execution_count": null,
      "outputs": [
        {
          "output_type": "execute_result",
          "data": {
            "text/plain": [
              "LinearRegression()"
            ]
          },
          "metadata": {},
          "execution_count": 5
        }
      ]
    },
    {
      "cell_type": "code",
      "source": [
        "#Predicciones de los modelos\n",
        "y_pred_lasso = lasso.predict(X_test)\n",
        "y_pred_ridge = ridge.predict(X_test)\n",
        "y_pred_lineal = lineal.predict(X_test)\n",
        "\n",
        "y_pred_lasso_norm = lasso_norm.predict(X_test_norm)\n",
        "y_pred_ridge_norm = ridge_norm.predict(X_test_norm)\n",
        "y_pred_lineal_norm = lineal_norm.predict(X_test_norm)\n",
        "\n",
        "y_pred_lasso_std = lasso_std.predict(X_test_std)\n",
        "y_pred_ridge_std = ridge_std.predict(X_test_std)\n",
        "y_pred_lineal_std = lineal_std.predict(X_test_std)\n",
        "\n",
        "y_pred_lasso_pca = lasso_pca.predict(X_test_pca)\n",
        "y_pred_ridge_pca = ridge_pca.predict(X_test_pca)\n",
        "y_pred_lineal_pca = lineal_pca.predict(X_test_pca)"
      ],
      "metadata": {
        "id": "4iyZvCcgSKpJ"
      },
      "execution_count": null,
      "outputs": []
    },
    {
      "cell_type": "code",
      "source": [
        "#Evaluación de los modelos\n",
        "linear_loss = mean_squared_error(y_test,y_pred_lineal)\n",
        "lasso_loss = mean_squared_error(y_test,y_pred_lasso)\n",
        "ridge_loss = mean_squared_error(y_test,y_pred_ridge)\n",
        "\n",
        "linear_loss_norm = mean_squared_error(y_test,y_pred_lineal_norm)\n",
        "lasso_loss_norm = mean_squared_error(y_test,y_pred_lasso_norm)\n",
        "ridge_loss_norm = mean_squared_error(y_test,y_pred_ridge_norm)\n",
        "\n",
        "linear_loss_std = mean_squared_error(y_test,y_pred_lineal_std)\n",
        "lasso_loss_std = mean_squared_error(y_test,y_pred_lasso_std)\n",
        "ridge_loss_std = mean_squared_error(y_test,y_pred_ridge_std)\n",
        "\n",
        "linear_loss_pca = mean_squared_error(y_test,y_pred_lineal_pca)\n",
        "lasso_loss_pca = mean_squared_error(y_test,y_pred_lasso_pca)\n",
        "ridge_loss_pca = mean_squared_error(y_test,y_pred_ridge_pca)\n",
        "\n",
        "print('Linear Loss:' ,linear_loss)\n",
        "print('Lasso Loss:' ,lasso_loss)\n",
        "print('Ridge Loss:' ,ridge_loss)\n",
        "print('_'*64)\n",
        "print('Linear Loss Norm:' ,linear_loss_norm)\n",
        "print('Lasso Loss Norm:' ,lasso_loss_norm)\n",
        "print('Ridge Loss Norm:' ,ridge_loss_norm)\n",
        "print('_'*64)\n",
        "print('Linear Loss Std:' ,linear_loss_std)\n",
        "print('Lasso Loss Std:' ,lasso_loss_std)\n",
        "print('Ridge Loss Std:' ,ridge_loss_std)\n",
        "print('_'*64)\n",
        "print('Linear Loss PCA:' ,linear_loss_pca)\n",
        "print('Lasso Loss PCA:' ,lasso_loss_pca)\n",
        "print('Ridge Loss PCA:' ,ridge_loss_pca)"
      ],
      "metadata": {
        "colab": {
          "base_uri": "https://localhost:8080/"
        },
        "id": "Sg0ryX2nSoqf",
        "outputId": "e6e47e7b-c6af-45a8-df2c-f648378a23ae"
      },
      "execution_count": null,
      "outputs": [
        {
          "output_type": "stream",
          "name": "stdout",
          "text": [
            "Linear Loss: 707198830.9140444\n",
            "Lasso Loss: 707188349.3688234\n",
            "Ridge Loss: 705878939.849499\n",
            "________________________________________________________________\n",
            "Linear Loss Norm: 707198830.9138914\n",
            "Lasso Loss Norm: 705958380.1589681\n",
            "Ridge Loss Norm: 955621998.0364466\n",
            "________________________________________________________________\n",
            "Linear Loss Std: 707198830.9138949\n",
            "Lasso Loss Std: 707146504.8641546\n",
            "Ridge Loss Std: 669421312.039182\n",
            "________________________________________________________________\n",
            "Linear Loss PCA: 4291759092.441352\n",
            "Lasso Loss PCA: 4291762753.5797853\n",
            "Ridge Loss PCA: 5612525286.629544\n"
          ]
        }
      ]
    },
    {
      "cell_type": "code",
      "source": [
        "x1 = walventas.iloc[:,0].values\n",
        "y1 = walventas.iloc[:,1].values"
      ],
      "metadata": {
        "id": "n2kcbHoLfwtQ"
      },
      "execution_count": null,
      "outputs": []
    },
    {
      "cell_type": "code",
      "source": [
        "#Graficas\n",
        "import matplotlib.pyplot as plt\n",
        "#y2_ = std.transform(X)\n",
        "y2 = ridge.predict(X)\n",
        "\n",
        "y3_ = norm.transform(X)\n",
        "y3 = lasso_norm.predict(y3_)\n",
        "\n",
        "y4_ = std.transform(X)\n",
        "y4 = ridge_std.predict(y4_)\n",
        "\n",
        "plt.figure(figsize=(15,10))\n",
        "plt.plot(x1,y1,'go-',label='Real')\n",
        "plt.plot(x1,y4,'mo-',label='Predicción')\n",
        "\n",
        "plt.title('Predicciones de las Ventas de Walmart',fontsize=20)\n",
        "plt.xlabel('Años',fontsize=20)\n",
        "plt.ylabel('Total Ventas',fontsize=20)\n",
        "\n",
        "plt.xticks(fontsize=20)\n",
        "plt.yticks(fontsize=20)\n",
        "\n",
        "plt.legend(loc='upper left',fontsize=20)\n",
        "plt.show()"
      ],
      "metadata": {
        "colab": {
          "base_uri": "https://localhost:8080/",
          "height": 645
        },
        "id": "10wtHEowgmai",
        "outputId": "3ebbebc6-c980-4e17-fd06-b4ded846d616"
      },
      "execution_count": null,
      "outputs": [
        {
          "output_type": "display_data",
          "data": {
            "text/plain": [
              "<Figure size 1080x720 with 1 Axes>"
            ],
            "image/png": "[encoded data removed]"
          },
          "metadata": {
            "needs_background": "light"
          }
        }
      ]
    },
    {
      "cell_type": "code",
      "source": [
        "#Coeficientes de los modelos\n",
        "ridge_std.coef_"
      ],
      "metadata": {
        "id": "1sX_MEQ1jFti",
        "colab": {
          "base_uri": "https://localhost:8080/"
        },
        "outputId": "beede9b4-fe70-4533-dff8-f4b321f87f24"
      },
      "execution_count": null,
      "outputs": [
        {
          "output_type": "execute_result",
          "data": {
            "text/plain": [
              "array([114225.12795611,  56710.7375594 ,  -4015.25638958,    587.60732127,\n",
              "         3581.21672337])"
            ]
          },
          "metadata": {},
          "execution_count": 10
        }
      ]
    }
  ]
}